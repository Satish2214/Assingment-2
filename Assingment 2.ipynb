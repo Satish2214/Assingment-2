{
 "cells": [
  {
   "cell_type": "code",
   "execution_count": 3,
   "id": "3117d32d-2293-455d-b06c-006618d42f5b",
   "metadata": {},
   "outputs": [],
   "source": [
    "# Which keyword is used to create a function? Create a function to return a list of odd numbers in the range of 1 to 25.\n",
    "\n",
    "# def keyword is used to create function\n",
    "\n",
    "l=[]\n",
    "def odd_f():\n",
    "    for i in range(1,26):\n",
    "        if(i%2!=0):\n",
    "            l.append(i)\n",
    "    return l            "
   ]
  },
  {
   "cell_type": "code",
   "execution_count": 4,
   "id": "965a931a-76fd-4ec3-bab4-95eb964df0e9",
   "metadata": {},
   "outputs": [
    {
     "data": {
      "text/plain": [
       "[1, 3, 5, 7, 9, 11, 13, 15, 17, 19, 21, 23, 25]"
      ]
     },
     "execution_count": 4,
     "metadata": {},
     "output_type": "execute_result"
    }
   ],
   "source": [
    "odd_f()"
   ]
  },
  {
   "cell_type": "code",
   "execution_count": 5,
   "id": "b1f015a3-6324-4fb7-a531-150ddba9b6a9",
   "metadata": {},
   "outputs": [],
   "source": [
    "# *args specifies the number of non-keyworded arguments that can be passed and the operations that can be performed on the function in Python \n",
    "# whereas **kwargs is a variable number of keyworded arguments that can be passed to a function that can perform dictionary operations.\n",
    "\n",
    "def multi_l(*args):\n",
    "    return args\n",
    "    "
   ]
  },
  {
   "cell_type": "code",
   "execution_count": 6,
   "id": "73ddff51-c51f-448d-873b-c1bc186e0850",
   "metadata": {},
   "outputs": [
    {
     "data": {
      "text/plain": [
       "(23,)"
      ]
     },
     "execution_count": 6,
     "metadata": {},
     "output_type": "execute_result"
    }
   ],
   "source": [
    "multi_l(23)"
   ]
  },
  {
   "cell_type": "code",
   "execution_count": 7,
   "id": "d113809b-d630-4e23-86f6-b9e732b29293",
   "metadata": {},
   "outputs": [],
   "source": [
    "def multi_l1(**kwargs):\n",
    "    return kwargs"
   ]
  },
  {
   "cell_type": "code",
   "execution_count": 8,
   "id": "2d853f3a-e7f9-482b-89ae-c8d6ab8eefb2",
   "metadata": {},
   "outputs": [
    {
     "data": {
      "text/plain": [
       "{'a': 23}"
      ]
     },
     "execution_count": 8,
     "metadata": {},
     "output_type": "execute_result"
    }
   ],
   "source": [
    "multi_l1(a=23)"
   ]
  },
  {
   "cell_type": "code",
   "execution_count": 9,
   "id": "e401a064-aa9a-420e-8c1d-d6a28e5fad8f",
   "metadata": {},
   "outputs": [
    {
     "name": "stdout",
     "output_type": "stream",
     "text": [
      "[2, 4, 6, 8, 10]\n"
     ]
    }
   ],
   "source": [
    " # An iterator is an object that contains a countable number of values. \n",
    "# An iterator is an object that can be iterated upon, meaning that you can traverse through all the values\n",
    "\n",
    "#Method used to initialize the iterator object : __iter__()\n",
    "#Method used for iteration: __next__()\n",
    "\n",
    "l= [2,4,6,8,10,12,14,16,18,20]\n",
    "for i in l:\n",
    "    re =l[:5]\n",
    "print (re)"
   ]
  },
  {
   "cell_type": "code",
   "execution_count": 10,
   "id": "c2b312b0-e4ce-4030-b582-b395f5cc600b",
   "metadata": {},
   "outputs": [],
   "source": [
    "# A generator is a special type of function which does not return a single value, \n",
    "# instead, it returns an iterator object with a sequence of values. In a generator function,\n",
    "# a yield statement is used rather than a return statement.\n",
    "# yield returns a value and pauses the execution while maintaining the internal states\n",
    "\n",
    "def count_test(n):\n",
    "    count = 1\n",
    "    while count<n:\n",
    "        yield count\n",
    "        count = count+1  "
   ]
  },
  {
   "cell_type": "code",
   "execution_count": 11,
   "id": "47f39bae-b231-44d2-a27f-7542fea6b199",
   "metadata": {},
   "outputs": [],
   "source": [
    "c = count_test(6)"
   ]
  },
  {
   "cell_type": "code",
   "execution_count": 12,
   "id": "4f51c0cb-404f-4f0f-bba2-060babbbc75c",
   "metadata": {},
   "outputs": [
    {
     "name": "stdout",
     "output_type": "stream",
     "text": [
      "1\n",
      "2\n",
      "3\n",
      "4\n",
      "5\n"
     ]
    }
   ],
   "source": [
    "for i in c:\n",
    "    print (i)"
   ]
  },
  {
   "cell_type": "code",
   "execution_count": 16,
   "id": "c6dc359a-841e-4685-a83d-21b1d73dba52",
   "metadata": {},
   "outputs": [],
   "source": [
    "#q5\n",
    "def prime_s(n):\n",
    "    primes = set()\n",
    "    for n in range(2, 1001):\n",
    "        if all(n % p > 0 for p in primes):\n",
    "            primes.add(n)\n",
    "            yield n"
   ]
  },
  {
   "cell_type": "code",
   "execution_count": 17,
   "id": "e14cbdb3-4aa0-4a6e-961b-425c1776c0c1",
   "metadata": {},
   "outputs": [],
   "source": [
    "s =prime_s(1001)"
   ]
  },
  {
   "cell_type": "code",
   "execution_count": 18,
   "id": "acda5297-20fc-4e00-a61a-a431206d46ec",
   "metadata": {},
   "outputs": [
    {
     "data": {
      "text/plain": [
       "2"
      ]
     },
     "execution_count": 18,
     "metadata": {},
     "output_type": "execute_result"
    }
   ],
   "source": [
    "next(s)"
   ]
  },
  {
   "cell_type": "code",
   "execution_count": 4,
   "id": "3bc3c2f5-c231-4003-b7da-6c88255e0da2",
   "metadata": {},
   "outputs": [
    {
     "name": "stdin",
     "output_type": "stream",
     "text": [
      "enter the number of element: 10\n"
     ]
    },
    {
     "name": "stdout",
     "output_type": "stream",
     "text": [
      "0\n",
      "1\n",
      "1\n",
      "2\n",
      "3\n",
      "5\n",
      "8\n",
      "13\n",
      "21\n",
      "34\n"
     ]
    }
   ],
   "source": [
    "#q6\n",
    "n = int(input(\"enter the number of element:\"))\n",
    "a,b= 0,1\n",
    "counter = 0\n",
    "while counter < n :\n",
    "    print(a)\n",
    "    c= a+b\n",
    "    a=b\n",
    "    b=c\n",
    "    counter= counter+1\n"
   ]
  },
  {
   "cell_type": "code",
   "execution_count": 10,
   "id": "3242d91a-f971-48b2-acd9-4fd1a503bbce",
   "metadata": {},
   "outputs": [
    {
     "data": {
      "text/plain": [
       "['p', 'w', 's', 'k', 'i', 'l', 'l', 's']"
      ]
     },
     "execution_count": 10,
     "metadata": {},
     "output_type": "execute_result"
    }
   ],
   "source": [
    "#q7 \n",
    "s = 'pwskills'\n",
    "list(map(lambda s: s.lower(),s))"
   ]
  },
  {
   "cell_type": "code",
   "execution_count": 12,
   "id": "30090ba3-97ad-4578-86fb-d8f94b3f57fd",
   "metadata": {},
   "outputs": [
    {
     "name": "stdin",
     "output_type": "stream",
     "text": [
      "Enter a number: 22\n"
     ]
    },
    {
     "name": "stdout",
     "output_type": "stream",
     "text": [
      "The number is palindrome!\n"
     ]
    }
   ],
   "source": [
    "#q8 # palindrome program in python using while loop\n",
    "\n",
    "num=int(input(\"Enter a number:\"))\n",
    "temp=num\n",
    "rev=0\n",
    "while(num>0):\n",
    "    dig=num%10\n",
    "    rev=rev*10+dig\n",
    "    num=num//10\n",
    "if(temp==rev):\n",
    "    print(\"The number is palindrome!\")\n",
    "else:\n",
    "    print(\"Not a palindrome!\")"
   ]
  },
  {
   "cell_type": "code",
   "execution_count": 14,
   "id": "08399a12-b51a-4dfb-b282-2997ac7a7c11",
   "metadata": {},
   "outputs": [
    {
     "name": "stdout",
     "output_type": "stream",
     "text": [
      "[1, 3, 5, 7, 9, 11, 13, 15, 17, 19, 21, 23, 25, 27, 29, 31, 33, 35, 37, 39, 41, 43, 45, 47, 49, 51, 53, 55, 57, 59, 61, 63, 65, 67, 69, 71, 73, 75, 77, 79, 81, 83, 85, 87, 89, 91, 93, 95, 97, 99]\n"
     ]
    }
   ],
   "source": [
    "#q9\n",
    "l1= list(range(1,101))\n",
    "odd_list = [x for x in l1 if x % 2 == 1 ]\n",
    "print(odd_list)"
   ]
  },
  {
   "cell_type": "code",
   "execution_count": null,
   "id": "9759c767-d773-4fb1-a86f-ad639910ef85",
   "metadata": {},
   "outputs": [],
   "source": []
  }
 ],
 "metadata": {
  "kernelspec": {
   "display_name": "Python 3 (ipykernel)",
   "language": "python",
   "name": "python3"
  },
  "language_info": {
   "codemirror_mode": {
    "name": "ipython",
    "version": 3
   },
   "file_extension": ".py",
   "mimetype": "text/x-python",
   "name": "python",
   "nbconvert_exporter": "python",
   "pygments_lexer": "ipython3",
   "version": "3.10.8"
  }
 },
 "nbformat": 4,
 "nbformat_minor": 5
}
